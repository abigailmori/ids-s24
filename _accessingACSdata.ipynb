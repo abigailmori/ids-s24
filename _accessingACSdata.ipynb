{
  "cells": [
    {
      "cell_type": "markdown",
      "metadata": {},
      "source": [
        "## Accessing ACS Data\n",
        "\n",
        "This section was written by Abigail Mori.\n",
        "\n",
        "### Introduction\n",
        "\n",
        "Hi! My name is Abigail Mori and I am a current senior, graduating this May. This past summer I worked with the UConn's Center for Voting Technology Research. We used ACS data to analyze ease of voting within Connecticut. Though, I only used `sql` and never had to access this data through `python`. I am excited to show what I've learned over the past couple weeks.\n",
        "\n",
        "### Installation\n",
        "\n",
        "In order to properly access ACS data we will need make sure we have installed `cenpy` and `geodatasets`. `Cenpy` is a package that \"automatically discovers US Census Bureau API endpoints and exposes them to Python in a consistent fashion.\" `Geodatasets` \"contains an API on top of a JSON with metadata of externally hosted datasets containing geospatial information useful for illustrative and educational purposes.\" Both of these modules are dependent on `pandas`.\n",
        "\n",
        "### Accessing ACS Data\n",
        "\n",
        "There are many different kinds of census data, one of which is ACS (American Community Survery) data. The ACS data is made up of a \"wide range of social, economic, demographic, and housing charateristics.\" There are multiple ways to access this data using Python. I will examine one way using `cenpy`.\n",
        "\n",
        "For much of work I referenced a `cenpy` API reference page (https://cenpy-devs.github.io/cenpy/api.html)\n"
      ],
      "id": "e437e5b9"
    },
    {
      "cell_type": "code",
      "metadata": {},
      "source": [
        "import warnings\n",
        "warnings.simplefilter(action='ignore', category=FutureWarning)\n",
        "import cenpy as cen\n",
        "import geodatasets"
      ],
      "id": "02db156c",
      "execution_count": null,
      "outputs": []
    },
    {
      "cell_type": "code",
      "metadata": {},
      "source": [
        "# Set a variable to all tables in the The American Community Survey from the Census Bureau\n",
        "acs = cen.products.ACS()\n",
        "# Filter through acs tables based on specific variables\n",
        "print(acs.filter_tables('RACE', by='description'))\n",
        "# Once you select your desired table you can add more specific parameters, in this case I chose to do so by state\n",
        "connecticut = cen.products.ACS(2019).from_state('Connecticut', variables= 'B02001')\n",
        "print(connecticut.head())\n",
        "nevada = cen.products.ACS(2019).from_state('Nevada', variables= 'B02001')\n",
        "print(nevada.head())"
      ],
      "id": "22c1403f",
      "execution_count": null,
      "outputs": []
    },
    {
      "cell_type": "markdown",
      "metadata": {},
      "source": [
        "Each columns meanings can be found here: https://api.census.gov/data/2019/acs/acs1/variables.html and https://www.census.gov/programs-surveys/acs/technical-documentation/table-shells.2019.html#list-tab-79594641\n",
        "\n",
        "|              |                                                              |\n",
        "|--------------|--------------------------------------------------------------|\n",
        "| B02001_001E: | Total                                                        |\n",
        "| B02001_002E  | White alone                                                  |\n",
        "| B02001_003E  | Black or African American alone                              |\n",
        "| B02001_004E  | American Indian and Alaska Native alone                      |\n",
        "| B02001_005E  | Asian alone                                                  |\n",
        "| B02001_006E  | Native Hawaiian and Other Pacific Islander alone             |\n",
        "| B02001_007E  | Some other race alone                                        |\n",
        "| B02001_008E  | Two or more races                                            |\n",
        "| B02001_009E  | Two races including Some other race                          |\n",
        "| B02001_010E  | Two races excluding Some other race, and three or more races |\n",
        "\n",
        "### Visualizing\n",
        "\n",
        "`Cenpy` returns users with datasets based on specifications, like RACE. Some of the columns include: geiod, geometry, name, state, county, and tract. The geometry is made up of Polygons which then can be used to make a map with `matplotlib` Since, `cenpy` provides a table of type: geopandas.geodataframe.GeoDataFrame. `GeoPandas` provides a high-level interface to the `matplotlib` library for making maps.\n",
        "\n",
        "Below, I show maps of Connecticut and Nevada which display the populations of Native Hawaiians and other Pacific Islanders by census tract.\n"
      ],
      "id": "fc215a69"
    },
    {
      "cell_type": "code",
      "metadata": {},
      "source": [
        "import matplotlib.pyplot as plt\n",
        "import geopandas\n",
        "import pandas as pd"
      ],
      "id": "678f760a",
      "execution_count": null,
      "outputs": []
    },
    {
      "cell_type": "code",
      "metadata": {},
      "source": [
        "fig, (ax1,ax2) = plt.subplots(nrows=1, ncols=2, figsize=(20, 16))\n",
        "\n",
        "#B02001_006E: total number of Native Hawaiians and other Pacific Islanders\n",
        "ax1 = connecticut.plot('B02001_006E', ax = ax1, cmap = 'viridis', legend = True)\n",
        "ax2 = nevada.plot('B02001_006E', ax = ax2, cmap = 'viridis', legend = True)"
      ],
      "id": "a0ef319c",
      "execution_count": null,
      "outputs": []
    },
    {
      "cell_type": "markdown",
      "metadata": {},
      "source": [
        "### Further Analysis\n",
        "\n",
        "ACS data can allow individuals to see discrepancies in voting accessability. For instance, we can look at correlation between a poverty level and education in a specific state.\n",
        "\n",
        "We can access this data doing the same search method as above.\n",
        "\n",
        "Like before we filter through the tables to access our desired data. In this instance I chose to select data concerning poverty and education in Connecticut.\n"
      ],
      "id": "9c8f5de8"
    },
    {
      "cell_type": "code",
      "metadata": {},
      "source": [
        "print(acs.filter_tables('POVERTY', by='description'))\n",
        "# B17001: Poverty status in the past 12 months \n",
        "poverty_ct = cen.products.ACS(2019).from_state('Connecticut', variables = 'B17001')\n",
        "poverty_ct.head()"
      ],
      "id": "5b2027f1",
      "execution_count": null,
      "outputs": []
    },
    {
      "cell_type": "code",
      "metadata": {},
      "source": [
        "print(acs.filter_tables('HOUSING', by = 'description'))\n",
        "# Total Population in occupied housing\n",
        "housing_ct = cen.products.ACS(2019).from_state('Connecticut', variables = 'B25008')\n",
        "housing_ct.head()"
      ],
      "id": "4682ebee",
      "execution_count": null,
      "outputs": []
    },
    {
      "cell_type": "code",
      "metadata": {},
      "source": [
        "fig, (ax1,ax2) = plt.subplots(nrows=1, ncols=2, figsize=(20, 16))\n",
        "\n",
        "ax1 = poverty_ct.plot('B17001A_001E', ax = ax1, cmap = 'viridis', legend = True)\n",
        "ax2 = housing_ct.plot('B25008_001E', ax = ax2, cmap = 'viridis', legend = True)"
      ],
      "id": "750732a6",
      "execution_count": null,
      "outputs": []
    },
    {
      "cell_type": "markdown",
      "metadata": {},
      "source": [
        "Based on this we can visualize the numbers of individuals who are in poverty and individuals who have housing by census tract.\n",
        "\n",
        "A further step is to run statistical analysis to see if there is any dependence and correlation between poverty and housing attainment within Connecituct.\n",
        "\n",
        "### References\n",
        "\n",
        "https://cenpy-devs.github.io/cenpy/api.html https://pypi.org/project/CensusData/ https://pypi.org/project/cenpy/0.9.1/ https://geopandas.org/en/stable/getting_started/introduction.html https://data.census.gov/table/ACSDT1Y2022.B02001?t=Race+and+Ethnicity https://www.census.gov/programs-surveys/acs/technical-documentation/table-shells.2019.html#list-tab-79594641"
      ],
      "id": "96eec9b1"
    }
  ],
  "metadata": {
    "kernelspec": {
      "name": "python3",
      "language": "python",
      "display_name": "Python 3 (ipykernel)"
    }
  },
  "nbformat": 4,
  "nbformat_minor": 5
}