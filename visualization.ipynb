{
  "cells": [
    {
      "cell_type": "markdown",
      "metadata": {},
      "source": [
        "# Visualization\n",
        "\n",
        "# Data Visualization"
      ],
      "id": "7c25d30e"
    },
    {
      "cell_type": "code",
      "metadata": {},
      "source": [
        "import matplotlib.pyplot as plt\n",
        "import numpy as np\n",
        "import pandas as pd\n",
        "import seaborn as sns"
      ],
      "id": "005bf215",
      "execution_count": null,
      "outputs": []
    },
    {
      "cell_type": "code",
      "metadata": {},
      "source": [
        "url = 'https://raw.githubusercontent.com/JoannaWuWeijia/Data_Store_WWJ/main/cleaning_data_rodent3.csv'\n",
        "\n",
        "df = pd.read_csv(url)"
      ],
      "id": "f13a8f1e",
      "execution_count": null,
      "outputs": []
    },
    {
      "cell_type": "markdown",
      "metadata": {},
      "source": [
        "## Introduction\n",
        "Hi Class, my name is Weijia Wu and I'm a senior double majored in Applied Math and Statistics. \n",
        "The following shows a basic concepts of visulization of python.\n",
        "\n",
        "\n",
        "## Matplotlib\n",
        "Matplotlib is a desktop plotting package designed for plotting \n",
        "and arranging data visually in Python, usually in two-dimensional. \n",
        "It was created by Dr. John Hunter in 2003 as an alternative to Matlab to facilitate \n",
        "scientific computation and data visualization in Python.\n",
        "\n",
        "Matplotlib is widely used because of its simplicity and effectiveness.\n",
        "\n",
        "### Installation of `Matplotlib`\n",
        "The library can be installed by typing `pip install matplotlib` in your terminal\n",
        "\n",
        "```\n",
        "pip install matplotlib\n",
        "```\n",
        "\n",
        "### Line Plot \n",
        "\n",
        "#### Single plot with `pyplot` submodule\n",
        "\n",
        "Let's Start with an sample Line Plot example: "
      ],
      "id": "299ea90a"
    },
    {
      "cell_type": "code",
      "metadata": {},
      "source": [
        "t = range(0, 10) \n",
        "r = [i**2 for i in t]\n",
        "\n",
        "plt.figure(figsize=(4, 4)) \n",
        "# Width and height in inches\n",
        "plt.plot(t, r)\n",
        "plt.title('Line Plot Example')\n",
        "\n",
        "plt.show()"
      ],
      "id": "a0192576",
      "execution_count": null,
      "outputs": []
    },
    {
      "cell_type": "markdown",
      "metadata": {},
      "source": [
        "#### x-label, y-label, and grid:"
      ],
      "id": "000e63ba"
    },
    {
      "cell_type": "code",
      "metadata": {},
      "source": [
        "plt.figure(figsize=(4, 4)) \n",
        "\n",
        "plt.plot(t, r)\n",
        "plt.title('Line Plot Example2')\n",
        "plt.xlabel('t value')\n",
        "plt.ylabel('r value')\n",
        "plt.grid(True)"
      ],
      "id": "24ec7c95",
      "execution_count": null,
      "outputs": []
    },
    {
      "cell_type": "markdown",
      "metadata": {},
      "source": [
        "#### Add legend:"
      ],
      "id": "473f921d"
    },
    {
      "cell_type": "code",
      "metadata": {},
      "source": [
        "plt.figure(figsize=(4, 4)) \n",
        "\n",
        "plt.plot(t, r)\n",
        "plt.title('Line Plot Example3')\n",
        "plt.xlabel('t value')\n",
        "plt.ylabel('r value')\n",
        "plt.grid(True)\n",
        "plt.legend()"
      ],
      "id": "5e32757a",
      "execution_count": null,
      "outputs": []
    },
    {
      "cell_type": "markdown",
      "metadata": {},
      "source": [
        "To add a legend to a plot in Matplotlib, you can use the `legend()` function. \n",
        "\n",
        "A legend is a small area on the plot that describes each element of the graph. \n",
        "\n",
        "To effectively use the legend, you typically need to label the elements \n",
        "of the plot that you want to appear in the legend using the label parameter when plotting them. "
      ],
      "id": "51f92934"
    },
    {
      "cell_type": "code",
      "metadata": {},
      "source": [
        "plt.legend(loc='lower right', title='Legend Title', fontsize='small')"
      ],
      "id": "6816f36a",
      "execution_count": null,
      "outputs": []
    },
    {
      "cell_type": "markdown",
      "metadata": {},
      "source": [
        "The `help(plt.legend)` command in Python is used to display the documentation \n",
        "for the legend function from the Matplotlib library. This documentation \n",
        "includes a description of what the function does, the parameters it accepts, \n",
        "and other relevant information such as return values and examples of how to use the function."
      ],
      "id": "662026a5"
    },
    {
      "cell_type": "code",
      "metadata": {},
      "source": [
        "help(plt.legend)"
      ],
      "id": "4f187e7f",
      "execution_count": null,
      "outputs": []
    },
    {
      "cell_type": "markdown",
      "metadata": {},
      "source": [
        "#### Colors, Markers, and Line Styles\n",
        "\n",
        "If we want two plots in the same, we need to find a way to make the distinction between them."
      ],
      "id": "4892283e"
    },
    {
      "cell_type": "code",
      "metadata": {},
      "source": [
        "r2 = [i**3 for i in t]\n",
        "\n",
        "plt.figure(figsize=(4, 4)) \n",
        "\n",
        "plt.plot(t, r, linestyle = '--', color = 'r', marker = 'o', label = 'r')\n",
        "plt.plot(t, r2, linestyle = '-', color = 'b', marker = 'v', label = 'r2')\n",
        "\n",
        "plt.title('Line Plot Example2')\n",
        "plt.xlabel('t value')\n",
        "plt.ylabel('r value')\n",
        "plt.grid(True)\n",
        "\n",
        "plt.show()"
      ],
      "id": "c592c43e",
      "execution_count": null,
      "outputs": []
    },
    {
      "cell_type": "markdown",
      "metadata": {},
      "source": [
        "Use  `linestyle`, `color`, and `Markers` to set linestyles:"
      ],
      "id": "48116ca1"
    },
    {
      "cell_type": "code",
      "metadata": {},
      "source": [
        "# help(plt.plot)"
      ],
      "id": "150a5bb0",
      "execution_count": null,
      "outputs": []
    },
    {
      "cell_type": "markdown",
      "metadata": {},
      "source": [
        "## Example with rodent data: \n",
        "\n",
        "Let's use our rodent data to demonstrate the Monthly Reported data: "
      ],
      "id": "8bb039ec"
    },
    {
      "cell_type": "code",
      "metadata": {},
      "source": [
        "df['Created Date'] = pd.to_datetime(df['Created Date'])\n",
        "\n",
        "df['Month'] = df['Created Date'].dt.to_period('M')\n",
        "monthly_counts = df.groupby('Month').size()\n",
        "\n",
        "plt.figure(figsize=(10, 8))\n",
        "monthly_counts.plot(kind='line')\n",
        "plt.title('Monthly Report Count')\n",
        "plt.xlabel('Month')\n",
        "plt.ylabel('Number of Reports')\n",
        "plt.grid(True)\n",
        "plt.xticks(rotation=45)\n",
        "\n",
        "plt.show()"
      ],
      "id": "93a4be4d",
      "execution_count": null,
      "outputs": []
    },
    {
      "cell_type": "markdown",
      "metadata": {},
      "source": [
        "This plot shows the number of rodents in each month's report,\n",
        " and we can draw the following conclusions: rodent sights occur mostly in\n",
        "  the spring and summer, and they fall dramatically after the start of autumn (post-August).\n",
        "\n",
        "\n",
        "### Scatter plot"
      ],
      "id": "73ccad50"
    },
    {
      "cell_type": "code",
      "metadata": {},
      "source": [
        "np.random.seed(8465);\n",
        "\n",
        "x = np.random.uniform(0, 3, 10);\n",
        "y = np.random.uniform(0, 3, 10);\n",
        "z = np.random.uniform(0, 3, 10);\n",
        "\n",
        "plt.scatter(x, y)\n",
        "plt.xlabel('X')\n",
        "plt.ylabel('Y')\n",
        "\n",
        "plt.show()"
      ],
      "id": "259a3e31",
      "execution_count": null,
      "outputs": []
    },
    {
      "cell_type": "markdown",
      "metadata": {},
      "source": [
        "### Bar Plot"
      ],
      "id": "7479b331"
    },
    {
      "cell_type": "code",
      "metadata": {},
      "source": [
        "borough_counts = df['Borough'].value_counts()\n",
        "\n",
        "plt.figure(figsize=(8, 6))  \n",
        "plt.bar(borough_counts.index, borough_counts.values, color='green')\n",
        "plt.xlabel('Borough')  \n",
        "plt.ylabel('Number of Rodent Sightings')  \n",
        "plt.title('Rodent Sightings by Borough') \n",
        "plt.xticks(rotation=45)  # Rotate the X axis by 45 degrees to show the long labels\n",
        "\n",
        "plt.show()"
      ],
      "id": "c9fce358",
      "execution_count": null,
      "outputs": []
    },
    {
      "cell_type": "markdown",
      "metadata": {},
      "source": [
        "### Multiple plots using `subplots` submodule"
      ],
      "id": "017bc2f3"
    },
    {
      "cell_type": "code",
      "metadata": {},
      "source": [
        "df['Created Date'] = pd.to_datetime(df['Created Date'])\n",
        "df['Date'] = df['Created Date'].dt.date\n",
        "daily_reports = df.groupby(['Date', 'Incident Zip']).size().reset_index(name='Counts')\n",
        "sample_zip = daily_reports['Incident Zip'].dropna().iloc[0]\n",
        "sample_data = daily_reports[daily_reports['Incident Zip'] == sample_zip]\n",
        "\n",
        "# 2x2 Plot\n",
        "fig, axs = plt.subplots(2, 2, figsize=(8, 8))\n",
        "\n",
        "# Line Plot\n",
        "axs[0, 0].plot(sample_data['Date'], sample_data['Counts'], '-o', color='green')\n",
        "axs[0, 0].set_title(f'Linear Plot of Reports for Zip {sample_zip}')\n",
        "axs[0, 0].tick_params(labelrotation=45)\n",
        "\n",
        "# Box Plot\n",
        "axs[0, 1].boxplot(df['Y Coordinate (State Plane)'].dropna())\n",
        "axs[0, 1].set_title('Boxplot of Y Coordinate')\n",
        "\n",
        "# barplot\n",
        "status_counts = df['Status'].value_counts()\n",
        "axs[1, 0].bar(status_counts.index, status_counts.values, color='skyblue')\n",
        "axs[1, 0].set_title('Barplot of Status Counts')\n",
        "axs[1, 0].tick_params(labelrotation=45)\n",
        "\n",
        "# histogram\n",
        "axs[1, 1].hist(df['Latitude'].dropna(), bins=30, color='orange')\n",
        "axs[1, 1].set_title('Histogram of Latitude')\n",
        "\n",
        "plt.tight_layout()\n",
        "plt.show()"
      ],
      "id": "a12706d2",
      "execution_count": null,
      "outputs": []
    },
    {
      "cell_type": "markdown",
      "metadata": {},
      "source": [
        "### Save the files\n",
        "\n",
        "`help(plt.savefig)`allows you to save the current figure created by\n",
        " Matplotlib to a file. You can specify the filename and various \n",
        " options to control the format, quality, and layout of the output file.\n"
      ],
      "id": "6445f601"
    },
    {
      "cell_type": "code",
      "metadata": {},
      "source": [
        "# help(plt.savefig)"
      ],
      "id": "443bc778",
      "execution_count": null,
      "outputs": []
    },
    {
      "cell_type": "markdown",
      "metadata": {},
      "source": [
        "## Pandas\n",
        "\n",
        "Pandas plotting is built on top of Matplotlib, and one of its main \n",
        "benefits is that it allows you to generate plots with fewer lines of \n",
        "code directly from Pandas data structures like DataFrames and Series. \n",
        "This integration simplifies the process of visualizing data for analysis.\n",
        "\n",
        "\n",
        "### Line Plot\n",
        "\n",
        "#### Single plot"
      ],
      "id": "06fccbce"
    },
    {
      "cell_type": "code",
      "metadata": {},
      "source": [
        "monthly_counts.plot(kind='line')"
      ],
      "id": "7c392aa3",
      "execution_count": null,
      "outputs": []
    },
    {
      "cell_type": "markdown",
      "metadata": {},
      "source": [
        "Because the line plot is default in pandas plots, you can omit the (kind='line')\n",
        "\n",
        "When plotting with the .plot() method in Pandas, it is true that you can \n",
        "generate basic plots with fewer lines of code, due to the fact that Pandas\n",
        " automatically handles some of the basic settings, such as setting the \n",
        " x-axis labels automatically. However, for more detailed chart customization, \n",
        " such as setting gridlines, rotating x-axis labels, and so on, \n",
        " you may need additional Matplotlib commands to implement them.\n"
      ],
      "id": "14cfac68"
    },
    {
      "cell_type": "code",
      "metadata": {},
      "source": [
        "plt.figure(figsize=(8, 6))\n",
        "monthly_counts.plot(kind='line')\n",
        "\n",
        "plt.title('Monthly Report Count')\n",
        "plt.xlabel('Month')\n",
        "plt.ylabel('Number of Reports')\n",
        "plt.grid(True)\n",
        "plt.xticks(rotation=45)\n",
        "# For longer tags, avoid overlapping\n",
        "\n",
        "plt.show()"
      ],
      "id": "5dae92a3",
      "execution_count": null,
      "outputs": []
    },
    {
      "cell_type": "markdown",
      "metadata": {},
      "source": [
        "#### Multi-Lineplot\n",
        "The following is showing several line plots in the same figure. "
      ],
      "id": "e4a6765e"
    },
    {
      "cell_type": "code",
      "metadata": {},
      "source": [
        "community_counts = df['Community Districts'].value_counts().sort_index()\n",
        "city_council_counts = df['City Council Districts'].value_counts().sort_index()\n",
        "police_precincts_counts = df['Police Precincts'].value_counts().sort_index()\n",
        "\n",
        "counts_df = pd.DataFrame({\n",
        "    'Community Districts': community_counts,\n",
        "    'City Council Districts': city_council_counts,\n",
        "    'Police Precincts': police_precincts_counts\n",
        "})\n",
        "counts_df = counts_df.fillna(0) \n",
        "#Fill missing values to 0\n",
        "\n",
        "counts_df[['Community Districts', 'City Council Districts', \n",
        "'Police Precincts']].plot() "
      ],
      "id": "01faddca",
      "execution_count": null,
      "outputs": []
    },
    {
      "cell_type": "markdown",
      "metadata": {},
      "source": [
        "When you use the .plot() method on a Pandas DataFrame to create a multi-line plot,\n",
        " each line in the plot is automatically assigned a different color to \n",
        " help distinguish between the different data columns visually. \n",
        " The colors are chosen from a default color cycle provided by Matplotlib. \n",
        "\n",
        "If you want to customize the color: "
      ],
      "id": "8e40f5ef"
    },
    {
      "cell_type": "code",
      "metadata": {},
      "source": [
        "counts_df[['Community Districts', 'City Council Districts', 'Police Precincts']].plot(\n",
        "    color=['red', 'green', 'blue']  # Custom colors for each line\n",
        ")"
      ],
      "id": "05c987eb",
      "execution_count": null,
      "outputs": []
    },
    {
      "cell_type": "markdown",
      "metadata": {},
      "source": [
        "### Additional arguments\n",
        "\n",
        "For more info pleased check:"
      ],
      "id": "ac68041c"
    },
    {
      "cell_type": "code",
      "metadata": {},
      "source": [
        "![additional arguments](https://drive.google.com/file/d/1j5T7_VMT1Nt4myukcmar0UMcZOHqurCk/view?usp=sharing)"
      ],
      "id": "3627598e",
      "execution_count": null,
      "outputs": []
    },
    {
      "cell_type": "code",
      "metadata": {},
      "source": [
        "# help(plt.plot)"
      ],
      "id": "f7155cd2",
      "execution_count": null,
      "outputs": []
    },
    {
      "cell_type": "markdown",
      "metadata": {},
      "source": [
        "### Bar Plot\n",
        "\n",
        "For categorical data, one of common visualization is the barplot.\n",
        "\n",
        "+ Generated using `df.plot.bar()` method,\n",
        "for horizontal version `df.plot.barh()`.\n",
        "\n",
        "#### Side-by-side Bar Plot:\n",
        "\n",
        "Let's use Borough and Location Type to generate a side-by-side bar plot, one horizontal and one vertical:"
      ],
      "id": "347c1206"
    },
    {
      "cell_type": "code",
      "metadata": {},
      "source": [
        "fig, axs = plt.subplots(nrows=1, ncols=2, figsize=(8, 6))\n",
        "\n",
        "# Vertical bar plot for Borough counts\n",
        "df.groupby(['Borough']).size().plot.bar(ax=axs[0], color='skyblue', rot=0)\n",
        "axs[0].set_title('Bar plot for Borough')\n",
        "\n",
        "# Horizontal bar plot for Location Type counts\n",
        "df.groupby(['Location Type']).size().plot.barh(ax=axs[1], color='lightgreen')\n",
        "axs[1].set_title('Bar plot for Location Type')\n",
        "\n",
        "\n",
        "plt.tight_layout()\n",
        "plt.show()"
      ],
      "id": "b3e0a8af",
      "execution_count": null,
      "outputs": []
    },
    {
      "cell_type": "markdown",
      "metadata": {},
      "source": [
        "Similiar with `axs` in matplotlib:\n",
        "\n",
        "+ `nrows=1` means there will be 1 row of subplots.\n",
        "+ `ncols=2 `means there will be 2 columns of subplots.\n",
        "\n",
        "#### Grouped Bar Plot\n",
        "This type of plot is useful for comparing the distribution within each class side by side."
      ],
      "id": "a4a10b4e"
    },
    {
      "cell_type": "code",
      "metadata": {},
      "source": [
        "class_Borough = pd.crosstab(df[\"Borough\"], df[\"Status\"])\n",
        "\n",
        "class_Borough.plot.bar(rot=45, figsize=(8, 6))"
      ],
      "id": "1a486a18",
      "execution_count": null,
      "outputs": []
    },
    {
      "cell_type": "markdown",
      "metadata": {},
      "source": [
        "#### Stacked Bar Plot\n",
        "This plot is useful for comparing the total counts across \n",
        "borough while still being able to see the proportion of each borough within each class."
      ],
      "id": "c65263a8"
    },
    {
      "cell_type": "code",
      "metadata": {},
      "source": [
        "class_Borough.plot.bar(stacked=True)"
      ],
      "id": "038dd6d4",
      "execution_count": null,
      "outputs": []
    },
    {
      "cell_type": "markdown",
      "metadata": {},
      "source": [
        "### Histogram and Density Plots\n",
        "\n",
        "For numeric data, histogram allows us to see the distribution (center shape, skewness) of the data.\n",
        "\n",
        "Histogram can be generated using `df.plot.hist()`\n",
        "method\n",
        "\n",
        "Since we have limited numeric data in our rodent data, \n",
        "I used student achievement data to present it:"
      ],
      "id": "6e647e62"
    },
    {
      "cell_type": "code",
      "metadata": {},
      "source": [
        "url2 = 'https://raw.githubusercontent.com/JoannaWuWeijia/Data_Store_WWJ/main/grades_example.csv'\n",
        "df2 = pd.read_csv(url2)"
      ],
      "id": "82dd1ca3",
      "execution_count": null,
      "outputs": []
    },
    {
      "cell_type": "code",
      "metadata": {},
      "source": [
        "df2[\"Grade\"].plot.hist(bins = 10, figsize=(8, 6))"
      ],
      "id": "bd34c1be",
      "execution_count": null,
      "outputs": []
    },
    {
      "cell_type": "markdown",
      "metadata": {},
      "source": [
        "As can be seen from the plot, the students' scores show a normal distribution, \n",
        "with most of them clustered in the 70-80 range"
      ],
      "id": "97139e84"
    },
    {
      "cell_type": "code",
      "metadata": {},
      "source": [
        "df2[\"Grade\"].density()"
      ],
      "id": "978a9b42",
      "execution_count": null,
      "outputs": []
    },
    {
      "cell_type": "markdown",
      "metadata": {},
      "source": [
        "### Scatter Plots\n",
        "When dealing with two variables, scatter plot allow us to \n",
        "examine if there is any correlation between them.\n",
        "\n",
        "Scatter can be generated using `df.plot.scatter(x = col1, y = col2)` method."
      ],
      "id": "1046a8e2"
    },
    {
      "cell_type": "code",
      "metadata": {},
      "source": [
        "url3 = 'https://raw.githubusercontent.com/JoannaWuWeijia/Data_Store_WWJ/main/student_example3.csv'\n",
        "df3 = pd.read_csv(url3)"
      ],
      "id": "d6aa9868",
      "execution_count": null,
      "outputs": []
    },
    {
      "cell_type": "code",
      "metadata": {},
      "source": [
        "df3.plot.scatter(x=\"Weight\", y=\"Height\", figsize=(8, 6))"
      ],
      "id": "316f3f3c",
      "execution_count": null,
      "outputs": []
    },
    {
      "cell_type": "markdown",
      "metadata": {},
      "source": [
        "As you can see it's roughly a linear regression, \n",
        "and I'll cover how to add a regression line in the next sns section.\n",
        "\n",
        "## Seaborn\n",
        "+ Seaborn is designed to work directly with pandas DataFrames, \n",
        "making plotting more convenient by allowing direct use of DataFrame \n",
        "columns for specifying data in plots.\n",
        "\n",
        "+ Seaborn makes it easy to add linear regression lines and other \n",
        "statistical models to your charts, simplifying the process of statistical data visualization.\n",
        "\n",
        "+ Seaborn's default styles and color are more aesthetically \n",
        "pleasing and modern compared to Matplotlib.\n",
        "\n",
        "### Installation of `Seaborn`\n",
        "\n",
        "```\n",
        "pip install seaborn\n",
        "```\n",
        "\n",
        "### Histogram and Density Plots"
      ],
      "id": "e03cb409"
    },
    {
      "cell_type": "code",
      "metadata": {},
      "source": [
        "# help(sns.histplot) "
      ],
      "id": "a8ebc08c",
      "execution_count": null,
      "outputs": []
    },
    {
      "cell_type": "code",
      "metadata": {},
      "source": [
        "plt.figure(figsize=(8, 6))\n",
        "sns.histplot(df2['Grade'], bins=10, kde = True)"
      ],
      "id": "511604d0",
      "execution_count": null,
      "outputs": []
    },
    {
      "cell_type": "markdown",
      "metadata": {},
      "source": [
        "`bins`: The number of bars in the histogram. \n",
        "More bins can make the data distribution more detailed, \n",
        "but too many may cause the chart to be difficult to understand; \n",
        "fewer bins may not be able to show the data distribution accurately.\n",
        "`kde `: (Kernel Density Estimate Line) a density curve will \n",
        "be added to the histogram, which is generated by kernel density \n",
        "estimation and can help understand the shape of the data distribution\n",
        "\n",
        "### Scatter plot with Regression line\n",
        "\n",
        "I used an example with less data to be able to show it. \n",
        "We can see that the height and weight of the students are directly proportional."
      ],
      "id": "ec422d88"
    },
    {
      "cell_type": "code",
      "metadata": {},
      "source": [
        "df4 = pd.DataFrame({\n",
        "    'Student': ['Alice', 'Bob', 'Charlie', 'David', \n",
        "    'Eva', 'Fiona', 'George', 'Hannah', 'Ian', 'Julia'],\n",
        "    'Height': [160, 172, 158, 165, 170, 162, 175, 168, 180, 155],\n",
        "    'Weight': [55, 72, 60, 68, 62, 56, 80, 65, 75, 50]})\n",
        "\n",
        "plt.figure(figsize = (8, 6))\n",
        "sns.regplot(x='Weight', y='Height', data=df4)"
      ],
      "id": "da31ff07",
      "execution_count": null,
      "outputs": []
    },
    {
      "cell_type": "markdown",
      "metadata": {},
      "source": [
        "### Categorical Data\n",
        "\n",
        "#### barplot"
      ],
      "id": "0502488f"
    },
    {
      "cell_type": "code",
      "metadata": {},
      "source": [
        "np.random.seed(0) \n",
        "genders = np.random.choice(['Male', 'Female'], size=500)\n",
        "classes = np.random.choice(['A', 'B', 'C', 'D'], size=500)\n",
        "grades = np.random.choice(['Excellent', 'Good', 'Average', 'Poor'], size=500)\n",
        "df4 = pd.DataFrame({'Gender': genders, 'Class': classes, 'Grades': grades})"
      ],
      "id": "cbfe0a25",
      "execution_count": null,
      "outputs": []
    },
    {
      "cell_type": "code",
      "metadata": {},
      "source": [
        "sns.catplot(x='Class', hue='Gender', col='Grades', \n",
        "kind='count', data=df4, height=5, col_wrap=2)\n",
        "plt.show()"
      ],
      "id": "56204334",
      "execution_count": null,
      "outputs": []
    },
    {
      "cell_type": "markdown",
      "metadata": {},
      "source": [
        "+ `x='Class'`: This sets the x-axis to represent different classes, \n",
        "so each class will have its own set of bars in the plot.\n",
        "\n",
        "+ `hue='Gender'`: This parameter adds a color coding (hue) based on the 'Gender' column\n",
        "\n",
        "+ `col='Grades'`: This creates separate subplots (columns) for \n",
        "each unique value in the 'Grades' column (e.g., Excellent, Good, Average, Poor), \n",
        "effectively grouping the data by grades.\n",
        "\n",
        "+ `col_wrap=2`: Limits the number of these subplots to 2 per row. \n",
        "If there are more than 2 unique grades, additional rows \n",
        "will be created to accommodate all the subplots.\n",
        "\n",
        "+ `kind='count'`: Specifies the kind of plot to draw. In this case, \n",
        "`'count' `means it will count the occurrences of each category \n",
        "combination and display this as bars in the plot.\n",
        "\n",
        "+ `height`=5: Sets the height of each subplot to 5 inches.\n",
        "\n",
        "#### Box Plot"
      ],
      "id": "6f627c43"
    },
    {
      "cell_type": "code",
      "metadata": {},
      "source": [
        "sns.boxplot(x='Gender', y='Grades', hue='Class', data=df4)\n",
        "plt.show()"
      ],
      "id": "5c71356e",
      "execution_count": null,
      "outputs": []
    },
    {
      "cell_type": "markdown",
      "metadata": {},
      "source": [
        "+ `x='Gender'`:  x-axis variable\n",
        "\n",
        "+ `y='Grades'`: y-axis variable, which in this case is 'Grades'. \n",
        "Since 'Grades' is a categorical variable with values like 'Excellent', 'Good', 'Average', 'Poor'\n",
        "\n",
        "+ `col='Class'`: Creates separate subplots for each unique value \n",
        "in the 'Class' column, effectively grouping the data by class.\n",
        "\n",
        "\n",
        "#### Categorical Data Help"
      ],
      "id": "64e1d4be"
    },
    {
      "cell_type": "code",
      "metadata": {},
      "source": [
        "#help(sns.catplot)"
      ],
      "id": "56c8ef49",
      "execution_count": null,
      "outputs": []
    },
    {
      "cell_type": "markdown",
      "metadata": {},
      "source": [
        "## Conclusion\n",
        "\n",
        "`Matplotlib` is the foundation for making plots in Python.\n",
        "\n",
        "`pandas` uses Matplotlib for its plotting features but is mainly for handling data.\n",
        "\n",
        "`Seaborn` makes Matplotlib prettier and easier to use, especially with pandas data.\n",
        "\n",
        "\n",
        "\n",
        "\n",
        "## Citation\n",
        "+ https://matplotlib.org/stable/users/project/history.html\n",
        "+ https://matplotlib.org/stable/gallery/lines_bars_and_markers/simple_plot.html\n",
        "+ https://www.simplilearn.com/tutorials/python-tutorial/matplotlib\n",
        "+ https://www.w3schools.com/python/pandas/pandas_plotting.asp\n",
        "+ https://github.com/mwaskom/seaborn/tree/master/seaborn\n",
        "+ https://seaborn.pydata.org/installing.html\n",
        "+ https://ritza.co/articles/matplotlib-vs-seaborn-vs-plotly-vs-MATLAB-vs-ggplot2-vs-pandas/\n",
        "\n",
        "## Grammar of Graphics with `Plotnine`\n",
        "\n",
        "This section was written by Olivia Massad.\n",
        "\n",
        "\n",
        "### Introduction\n",
        "\n",
        "Hello everyone! My name is Olivia Massad and I am a junior Statistical\n",
        "Data Science Major. I am very interested in sports statistics and analytics,\n",
        "especially involving football, and am very excited to learn more about coding \n",
        "and data science in this class. Today I will be talking about grammar of \n",
        "graphics for python, using `Plotnine`. This is a new topic for me so I am very\n",
        "excited to show you all what we can do with it.\n",
        "\n",
        "\n",
        "### What is Grammar of Graphics?\n",
        "\n",
        "Similarly to how languages have grammar in order to structure language and create\n",
        "a standard for how sentences and words should be arranged, grammar of graphics \n",
        "provides the framework for a consistent way to structure and create statistical \n",
        "visualizations. This framework helps us to create graphs and visualizations which \n",
        "can be widely understood due to the consistent structure. The major components \n",
        "of grammar of graphics are:\n",
        "\n",
        "- Data: our datasets and the what components you want to visualize.\n",
        "\n",
        "- Aesthetics: axes, position of data points, color, shape, size.\n",
        "\n",
        "- Scale: scale values or use specific scales depending on multiple values\n",
        "and ranges.\n",
        "\n",
        "- Geometric objects: how data points are depicted, whether they're points,\n",
        "lines, bars, etc.\n",
        "\n",
        "- Statistics: statistical measures of the data included in the graphic, \n",
        "including mean, spread, confidence intervals, etc.\n",
        "\n",
        "- Facets: subplots for specific data dimensions.\n",
        "\n",
        "- Coordinate system: cartesian or polar.\n",
        "\n",
        "\n",
        "### What can you do with `Plotnine`?\n",
        "\n",
        "`Plotnine` is a program which implements grammar of graphics in order to \n",
        "create data visualizations and graphs using python. It is based on `ggplot2`\n",
        "and allows for many variations within graphs. Some examples of things we can\n",
        "create with `plotnine` are:\n",
        "\n",
        "- Bar Charts\n",
        "- Histograms\n",
        "- Box Plots\n",
        "- Scatter Plots\n",
        "- Line Charts\n",
        "- Time Series\n",
        "- Density Plots\n",
        "- etc.\n",
        "\n",
        "\n",
        "### Using `Plotnine`\n",
        "\n",
        "In order to use `plotnine` we first need to install the package using \n",
        "our command line.\n",
        "\n",
        "With `conda`:\n",
        "\"conda install -c conda-forge plotnine\"\n",
        "\n",
        "With `pip`:\n",
        "\"pip install plotnine\n",
        "pip install plotnine[all]\"\n",
        "\n",
        "Now that `plotnine` is installed, we must call the it in python."
      ],
      "id": "0c123d25"
    },
    {
      "cell_type": "code",
      "metadata": {},
      "source": [
        "from plotnine import *\n",
        "from plotnine.data import *"
      ],
      "id": "c72467fd",
      "execution_count": null,
      "outputs": []
    },
    {
      "cell_type": "markdown",
      "metadata": {},
      "source": [
        "Now that `plotnine` is installed and imported, we can begin to make\n",
        "graphs and plots. Below are different examples of visualizations we\n",
        "can make using `plotnine` and the personalizations we can add to them. \n",
        "For these graphics I used the rodent sighting data from the NYC open data\n",
        "311 requests. We also will need pandas and numpy for some of these graphs\n",
        "so we need to import those as well. Additionally, because the data set is\n",
        "so large, we will only be lookng at the first 500 complaints."
      ],
      "id": "96e0bcf6"
    },
    {
      "cell_type": "code",
      "metadata": {},
      "source": [
        "from plotnine import *\n",
        "from plotnine.data import *\n",
        "import pandas as pd \n",
        "import numpy as np \n",
        "import os\n",
        "folder = 'data'\n",
        "file = 'rodent_2022-2023.feather'\n",
        "path = os.path.join(folder, file)\n",
        "data = pd.read_feather(path)\n",
        "data_used = data.head(500)"
      ],
      "id": "ee95e526",
      "execution_count": null,
      "outputs": []
    },
    {
      "cell_type": "markdown",
      "metadata": {},
      "source": [
        "#### Bar Chart\n",
        "\n",
        "One common type of visualization we can create with `plotnine` is a \n",
        "bar chart. For this graph we will look at the data for the descriptors\n",
        "of each complaint."
      ],
      "id": "0fa0e9af"
    },
    {
      "cell_type": "code",
      "metadata": {},
      "source": [
        "(ggplot(data_used, aes(x = 'descriptor')) \n",
        "    + geom_bar())"
      ],
      "id": "440fa6e7",
      "execution_count": null,
      "outputs": []
    },
    {
      "cell_type": "markdown",
      "metadata": {},
      "source": [
        "While this code provides us with a nice simple chart, because we are using\n",
        "`plotnine`, we can make some major improvements to the visualization to\n",
        "make it easier to read and more appealing. Some simple things we can do are:\n",
        "\n",
        "- Add a title.\n",
        "- Color code the bars. \n",
        "- Change the orientation of the graph.\n",
        "- Add titles to the axes."
      ],
      "id": "53ee1105"
    },
    {
      "cell_type": "code",
      "metadata": {},
      "source": [
        "(ggplot(data_used, aes(x = 'descriptor', fill = 'descriptor')) \n",
        "        # Color code the bars.\n",
        "    + geom_bar() # Bar Chart\n",
        "    + ggtitle('Descriptor Counts') # Add a title.\n",
        "    + coord_flip() # Change the orientation of the graph.\n",
        "    + xlab(\"Descriptor\") # Add title to x axis.\n",
        "    + ylab(\"Number of Complaints\") # Add titles to y axis.\n",
        ")"
      ],
      "id": "00521d18",
      "execution_count": null,
      "outputs": []
    },
    {
      "cell_type": "markdown",
      "metadata": {},
      "source": [
        "Some more complex changes we can make to our graph are:\n",
        "\n",
        "- Change the orientation of the words on the axes to make them easier to read.\n",
        "- Add color coded descriptors to each bar."
      ],
      "id": "e061a0b9"
    },
    {
      "cell_type": "code",
      "metadata": {},
      "source": [
        "(ggplot(data_used, aes(x = 'descriptor', fill = 'borough')) \n",
        "        # Add color coded descriptors.\n",
        "    + geom_bar() # Bar Chart\n",
        "    + ggtitle('Descriptor Counts') # Add a title.\n",
        "    + xlab(\"Descriptor\") # Add title to x axis.\n",
        "    + ylab(\"Number of Complaints\") # Add titles to y axis.\n",
        "    + theme(axis_text_x=element_text(angle=45))\n",
        "     # Change the orientation of the words.\n",
        ")"
      ],
      "id": "cec2c6f4",
      "execution_count": null,
      "outputs": []
    },
    {
      "cell_type": "markdown",
      "metadata": {},
      "source": [
        "#### Scatter Plot\n",
        "\n",
        "Another common visualization we can create is a scatterplot. When looking \n",
        "at the data from the 311 requests, we can see that there are many data \n",
        "points for locations of these complaints. A scatter plot would be a great \n",
        "way to see the location of the complaints by graphing the longitudes and \n",
        "latitudes. In order to better see the points, for this \n",
        "graph we will only use the first 200 complaints."
      ],
      "id": "11af0a40"
    },
    {
      "cell_type": "code",
      "metadata": {},
      "source": [
        "data_scatter = data.tail(200)\n",
        "(ggplot(data_scatter, aes(x = 'longitude', y = 'latitude')) \n",
        "    + geom_point())"
      ],
      "id": "72c951a8",
      "execution_count": null,
      "outputs": []
    },
    {
      "cell_type": "markdown",
      "metadata": {},
      "source": [
        "Similarly to the original code for the bar chart, this code provides a\n",
        "very simple scatter plot. `Plotnine` allows us to add many specializations \n",
        "to the scatterplot in order to differentiate the points from each other. \n",
        "We can:\n",
        "\n",
        "- Add color to the points.\n",
        "- Differentiate using point size.\n",
        "- Differentiate using point shape."
      ],
      "id": "65cd6f66"
    },
    {
      "cell_type": "code",
      "metadata": {},
      "source": [
        "(ggplot(data_scatter, aes(x = 'longitude', y = 'latitude',\n",
        "       color = 'location_type')) # Add color to the points.\n",
        "    + geom_point())"
      ],
      "id": "33ec31f0",
      "execution_count": null,
      "outputs": []
    },
    {
      "cell_type": "code",
      "metadata": {},
      "source": [
        "(ggplot(data_scatter, aes(x = 'longitude', y = 'latitude',\n",
        "    size = 'descriptor', # Differentiate using point size.\n",
        "    shape = 'borough')) # Differentiate using point shape.\n",
        "    + geom_point())"
      ],
      "id": "3a26c78b",
      "execution_count": null,
      "outputs": []
    },
    {
      "cell_type": "markdown",
      "metadata": {},
      "source": [
        "We can see that due to the close data points, filtering the data using\n",
        "size and shape can become a little congested. One thing we can do to fix\n",
        "this while still viewing the same data is through the use of \"facet_grid\"."
      ],
      "id": "761a4cad"
    },
    {
      "cell_type": "code",
      "metadata": {},
      "source": [
        "(ggplot(data_scatter, aes(x = 'longitude', y = 'latitude',\n",
        "    shape = 'borough')) # Differentiate using point shape.\n",
        "    + geom_point()\n",
        "    + facet_grid('descriptor ~ .') # Create multiple plots.\n",
        ")"
      ],
      "id": "501a6442",
      "execution_count": null,
      "outputs": []
    },
    {
      "cell_type": "code",
      "metadata": {},
      "source": [
        "(ggplot(data_scatter, aes(x = 'longitude', y = 'latitude'))\n",
        "    + geom_point()\n",
        "    + facet_grid('descriptor ~ borough') \n",
        "        # Create multiple plots with 2 conditions.\n",
        "    + theme(strip_text_y = element_text(angle = 0), # change facet text angle\n",
        "        axis_text_x=element_text(angle=45)) # change x axis text angle\n",
        ")"
      ],
      "id": "81dca0e1",
      "execution_count": null,
      "outputs": []
    },
    {
      "cell_type": "markdown",
      "metadata": {},
      "source": [
        "#### Histogram\n",
        "\n",
        "The last common graph we will cover using `plotnine` is a histogram.\n",
        "Here we will use the created date data as a continuous variable. Using \n",
        "`plotnine` we are able to make many of the same personalizations we \n",
        "were able to do with bar charts."
      ],
      "id": "a031c2a9"
    },
    {
      "cell_type": "code",
      "metadata": {},
      "source": [
        "data_used['created_date']=pd.to_datetime(\n",
        "  data_used['created_date'],\n",
        "  format = \"%m/%d/%Y %I:%M:%S %p\", errors='coerce')\n",
        "(ggplot(data_used, aes(x='created_date'))\n",
        "    + geom_histogram())"
      ],
      "id": "4a72f588",
      "execution_count": null,
      "outputs": []
    },
    {
      "cell_type": "markdown",
      "metadata": {},
      "source": [
        "Now that we have a simple histogram with our data we can add specializations,\n",
        "inclduing:\n",
        "\n",
        "- Change width of bins.\n",
        "- Change oreintation of graph.\n",
        "- Add color coded descriptors.\n",
        "- Change outline color.\n",
        "- Change the orientation of the words on the axes to make them easier to read."
      ],
      "id": "4063ac69"
    },
    {
      "cell_type": "code",
      "metadata": {},
      "source": [
        "(ggplot(data_used, aes(x='created_date', fill = 'borough')) \n",
        "        # Add color coded descriptors.\n",
        "    + geom_histogram(binwidth=1,  # Change width of bins\n",
        "      color = 'black') # Change outline color.\n",
        "    + theme(axis_text_x=element_text(angle=45)) \n",
        "        # Change the orientation of the words.\n",
        ")"
      ],
      "id": "f986891e",
      "execution_count": null,
      "outputs": []
    },
    {
      "cell_type": "code",
      "metadata": {},
      "source": [
        "(ggplot(data_used, aes(x='created_date', fill = 'borough')) \n",
        "        # Add color coded descriptors.\n",
        "    + geom_histogram(binwidth=1,  # Change width of bins\n",
        "      colour = 'black') # Change outline color.\n",
        "    + coord_flip() # Change oreintation of graph.\n",
        ")"
      ],
      "id": "d3a673a2",
      "execution_count": null,
      "outputs": []
    },
    {
      "cell_type": "markdown",
      "metadata": {},
      "source": [
        "While we're able to color code the histogram to show other descriptors \n",
        "of the data, another way we can do this with `plotnine` is through the use\n",
        "of multiple graphs. Using \"facet_wrap\" we can create a multi facet graph with \n",
        "the same data."
      ],
      "id": "d53306bb"
    },
    {
      "cell_type": "code",
      "metadata": {},
      "source": [
        "(ggplot(data_used, aes(x='created_date')) \n",
        "    + geom_histogram(binwidth=1) # Change width of bins\n",
        "    + facet_wrap('borough') # Create multiple graphs.\n",
        "    + theme(axis_text_x=element_text(angle=45)) \n",
        "    # Change the orientation of the words.\n",
        ")"
      ],
      "id": "d547feef",
      "execution_count": null,
      "outputs": []
    },
    {
      "cell_type": "markdown",
      "metadata": {},
      "source": [
        "#### Density Plot\n",
        "\n",
        "The last visualization we're going to look at is density plots. While less \n",
        "common than the graphs previously discussed, density plots show the \n",
        "distribution of a specific variable."
      ],
      "id": "6111c156"
    },
    {
      "cell_type": "code",
      "metadata": {},
      "source": [
        "(ggplot(data_used, aes(x='created_date'))\n",
        "    + geom_density())"
      ],
      "id": "4529e9dd",
      "execution_count": null,
      "outputs": []
    },
    {
      "cell_type": "markdown",
      "metadata": {},
      "source": [
        "Above we can see a very simple density graph with very little description. Using\n",
        "`plotnine` we are able to:\n",
        "\n",
        "- Add color coded descriptors.\n",
        "- Scale groups by relative size.\n",
        "- Change the orientation of the words on the axes to make them easier to read."
      ],
      "id": "77da58f2"
    },
    {
      "cell_type": "code",
      "metadata": {},
      "source": [
        "(ggplot(data_used, aes(x='created_date', color = 'descriptor')) \n",
        "        #Add color coded descriptors.\n",
        "    + geom_density()\n",
        "    + theme(axis_text_x=element_text(angle=45)) \n",
        "        # Change the orientation of the words.\n",
        ")"
      ],
      "id": "ea9385f8",
      "execution_count": null,
      "outputs": []
    },
    {
      "cell_type": "code",
      "metadata": {},
      "source": [
        "(ggplot(data_used, aes(x='created_date', color = 'descriptor')) \n",
        "        #Add color coded descriptors.\n",
        "    + geom_density(aes(y=after_stat('count'))) \n",
        "        # Scale groups by relative size.\n",
        "    + theme(axis_text_x=element_text(angle=45)) \n",
        "        # Change the orientation of the words.\n",
        ")"
      ],
      "id": "b5b02652",
      "execution_count": null,
      "outputs": []
    },
    {
      "cell_type": "markdown",
      "metadata": {},
      "source": [
        "### Resources\n",
        "\n",
        "- <https://plotnine.readthedocs.io/en/v0.12.4/gallery.html>\n",
        "\n",
        "### References\n",
        "\n",
        "- “Plotnine.Geoms.Geom_bar¶.” Plotnine.Geoms.Geom_bar - Plotnine Commit: \n",
        "D1f7dbf Documentation, plotnine.readthedocs.io/en/stable/generated/\n",
        "plotnine.geoms.geom_bar.html. \n",
        "Accessed 13 Feb. 2024. \n",
        "\n",
        "- “Plotnine.Geoms.Geom_density¶.” Plotnine.Geoms.Geom_density - \n",
        "Plotnine Commit: D1f7dbf Documentation, plotnine.readthedocs.io/en/\n",
        "stable/generated/plotnine.geoms.geom_density.html. \n",
        "Accessed 17 Feb. 2024. \n",
        "\n",
        "- “Plotnine.Geoms.Geom_histogram¶.” Plotnine.Geoms.Geom_histogram - \n",
        "Plotnine Commit: D1f7dbf Documentation, plotnine.readthedocs.io/en/\n",
        "stable/generated/plotnine.geoms.geom_histogram.html#plotnine.\n",
        "geoms.geom_histogram. Accessed 17 Feb. 2024. \n",
        "\n",
        "- “Plotnine.Geoms.Geom_point¶.” Plotnine.Geoms.Geom_point - \n",
        "Plotnine Commit: D1f7dbf Documentation, plotnine.readthedocs.io/en/\n",
        "stable/generated/plotnine.geoms.geom_point.html. \n",
        "Accessed 16 Feb. 2024. \n",
        "\n",
        "- “Plotnine.” PyPI, pypi.org/project/plotnine/. Accessed 13 Feb. 2024. \n",
        "\n",
        "- Sarkar, Dipanjan (DJ). “A Comprehensive Guide to the Grammar of Graphics \n",
        "for Effective Visualization of Multi-Dimensional...” Medium, Towards Data \n",
        "Science, 13 Sept. 2018, towardsdatascience.com/a-comprehensive-guide-to-the-\n",
        "grammar-of-graphics-for-effective-visualization-of-multi-dimensional-1f92b4ed4149. \n"
      ],
      "id": "6aadedf3"
    }
  ],
  "metadata": {
    "kernelspec": {
      "name": "python3",
      "language": "python",
      "display_name": "Python 3 (ipykernel)"
    }
  },
  "nbformat": 4,
  "nbformat_minor": 5
}